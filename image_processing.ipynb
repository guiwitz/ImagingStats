{
 "cells": [
  {
   "cell_type": "code",
   "execution_count": 11,
   "id": "2bc8d77b",
   "metadata": {},
   "outputs": [],
   "source": [
    "import requests\n",
    "import zipfile\n",
    "from pathlib import Path"
   ]
  },
  {
   "cell_type": "markdown",
   "id": "4340f68b",
   "metadata": {},
   "source": [
    "## Import data\n",
    "\n",
    "First we need to import the data from a repository. For small datasets, this can be located in the same place as the code, e.g. on GitHub. For larger datasets you need to store your data on a data repository like Zenodo or use your own server, like here for example from the Broad Institute:"
   ]
  },
  {
   "cell_type": "code",
   "execution_count": 13,
   "id": "0970d575",
   "metadata": {},
   "outputs": [],
   "source": [
    "if not Path('BBBC013_v1_images_bmp').is_dir():\n",
    "    url = 'https://data.broadinstitute.org/bbbc/BBBC013/BBBC013_v1_images_bmp.zip'\n",
    "    response = requests.get(url, allow_redirects=True)\n",
    "    with zipfile.ZipFile('BBBC013_v1_images_bmp.zip', 'r') as zip_ref:\n",
    "        zip_ref.extractall('.')"
   ]
  },
  {
   "cell_type": "markdown",
   "id": "7fb2e693",
   "metadata": {},
   "source": [
    "## Import experimental information"
   ]
  },
  {
   "cell_type": "code",
   "execution_count": 229,
   "id": "4c11a936",
   "metadata": {},
   "outputs": [],
   "source": [
    "import pandas as pd\n",
    "import numpy as np"
   ]
  },
  {
   "cell_type": "code",
   "execution_count": 230,
   "id": "48e6375e",
   "metadata": {},
   "outputs": [],
   "source": [
    "drugs = pd.read_csv('https://data.broadinstitute.org/bbbc/BBBC013/BBBC013_v1_platemap_all.txt')"
   ]
  },
  {
   "cell_type": "code",
   "execution_count": 231,
   "id": "f96b80da",
   "metadata": {},
   "outputs": [
    {
     "data": {
      "text/plain": [
       "96"
      ]
     },
     "execution_count": 231,
     "metadata": {},
     "output_type": "execute_result"
    }
   ],
   "source": [
    "len(drugs)"
   ]
  },
  {
   "cell_type": "code",
   "execution_count": 232,
   "id": "2999d3f3",
   "metadata": {},
   "outputs": [],
   "source": [
    "drug_amounts = pd.DataFrame(np.reshape(drugs.values, (8,12)))"
   ]
  },
  {
   "cell_type": "code",
   "execution_count": 233,
   "id": "9e0ce3f9",
   "metadata": {},
   "outputs": [
    {
     "data": {
      "text/html": [
       "<div>\n",
       "<style scoped>\n",
       "    .dataframe tbody tr th:only-of-type {\n",
       "        vertical-align: middle;\n",
       "    }\n",
       "\n",
       "    .dataframe tbody tr th {\n",
       "        vertical-align: top;\n",
       "    }\n",
       "\n",
       "    .dataframe thead th {\n",
       "        text-align: right;\n",
       "    }\n",
       "</style>\n",
       "<table border=\"1\" class=\"dataframe\">\n",
       "  <thead>\n",
       "    <tr style=\"text-align: right;\">\n",
       "      <th></th>\n",
       "      <th>0</th>\n",
       "      <th>1</th>\n",
       "      <th>2</th>\n",
       "      <th>3</th>\n",
       "      <th>4</th>\n",
       "      <th>5</th>\n",
       "      <th>6</th>\n",
       "      <th>7</th>\n",
       "      <th>8</th>\n",
       "      <th>9</th>\n",
       "      <th>10</th>\n",
       "      <th>11</th>\n",
       "    </tr>\n",
       "  </thead>\n",
       "  <tbody>\n",
       "    <tr>\n",
       "      <th>0</th>\n",
       "      <td>0.0</td>\n",
       "      <td>0.0</td>\n",
       "      <td>0.98</td>\n",
       "      <td>1.95</td>\n",
       "      <td>3.91</td>\n",
       "      <td>7.81</td>\n",
       "      <td>15.63</td>\n",
       "      <td>31.25</td>\n",
       "      <td>62.5</td>\n",
       "      <td>125.0</td>\n",
       "      <td>250.0</td>\n",
       "      <td>150.0</td>\n",
       "    </tr>\n",
       "    <tr>\n",
       "      <th>1</th>\n",
       "      <td>0.0</td>\n",
       "      <td>0.0</td>\n",
       "      <td>0.98</td>\n",
       "      <td>1.95</td>\n",
       "      <td>3.91</td>\n",
       "      <td>7.81</td>\n",
       "      <td>15.63</td>\n",
       "      <td>31.25</td>\n",
       "      <td>62.5</td>\n",
       "      <td>125.0</td>\n",
       "      <td>250.0</td>\n",
       "      <td>150.0</td>\n",
       "    </tr>\n",
       "    <tr>\n",
       "      <th>2</th>\n",
       "      <td>0.0</td>\n",
       "      <td>0.0</td>\n",
       "      <td>0.98</td>\n",
       "      <td>1.95</td>\n",
       "      <td>3.91</td>\n",
       "      <td>7.81</td>\n",
       "      <td>15.63</td>\n",
       "      <td>31.25</td>\n",
       "      <td>62.5</td>\n",
       "      <td>125.0</td>\n",
       "      <td>250.0</td>\n",
       "      <td>150.0</td>\n",
       "    </tr>\n",
       "    <tr>\n",
       "      <th>3</th>\n",
       "      <td>0.0</td>\n",
       "      <td>0.0</td>\n",
       "      <td>0.98</td>\n",
       "      <td>1.95</td>\n",
       "      <td>3.91</td>\n",
       "      <td>7.81</td>\n",
       "      <td>15.63</td>\n",
       "      <td>31.25</td>\n",
       "      <td>62.5</td>\n",
       "      <td>125.0</td>\n",
       "      <td>250.0</td>\n",
       "      <td>150.0</td>\n",
       "    </tr>\n",
       "    <tr>\n",
       "      <th>4</th>\n",
       "      <td>80.0</td>\n",
       "      <td>0.0</td>\n",
       "      <td>0.31</td>\n",
       "      <td>0.63</td>\n",
       "      <td>1.25</td>\n",
       "      <td>2.50</td>\n",
       "      <td>5.00</td>\n",
       "      <td>10.00</td>\n",
       "      <td>20.0</td>\n",
       "      <td>40.0</td>\n",
       "      <td>80.0</td>\n",
       "      <td>0.0</td>\n",
       "    </tr>\n",
       "    <tr>\n",
       "      <th>5</th>\n",
       "      <td>80.0</td>\n",
       "      <td>0.0</td>\n",
       "      <td>0.31</td>\n",
       "      <td>0.63</td>\n",
       "      <td>1.25</td>\n",
       "      <td>2.50</td>\n",
       "      <td>5.00</td>\n",
       "      <td>10.00</td>\n",
       "      <td>20.0</td>\n",
       "      <td>40.0</td>\n",
       "      <td>80.0</td>\n",
       "      <td>0.0</td>\n",
       "    </tr>\n",
       "    <tr>\n",
       "      <th>6</th>\n",
       "      <td>80.0</td>\n",
       "      <td>0.0</td>\n",
       "      <td>0.31</td>\n",
       "      <td>0.63</td>\n",
       "      <td>1.25</td>\n",
       "      <td>2.50</td>\n",
       "      <td>5.00</td>\n",
       "      <td>10.00</td>\n",
       "      <td>20.0</td>\n",
       "      <td>40.0</td>\n",
       "      <td>80.0</td>\n",
       "      <td>0.0</td>\n",
       "    </tr>\n",
       "    <tr>\n",
       "      <th>7</th>\n",
       "      <td>80.0</td>\n",
       "      <td>0.0</td>\n",
       "      <td>0.31</td>\n",
       "      <td>0.63</td>\n",
       "      <td>1.25</td>\n",
       "      <td>2.50</td>\n",
       "      <td>5.00</td>\n",
       "      <td>10.00</td>\n",
       "      <td>20.0</td>\n",
       "      <td>40.0</td>\n",
       "      <td>80.0</td>\n",
       "      <td>0.0</td>\n",
       "    </tr>\n",
       "  </tbody>\n",
       "</table>\n",
       "</div>"
      ],
      "text/plain": [
       "     0    1     2     3     4     5      6      7     8      9      10     11\n",
       "0   0.0  0.0  0.98  1.95  3.91  7.81  15.63  31.25  62.5  125.0  250.0  150.0\n",
       "1   0.0  0.0  0.98  1.95  3.91  7.81  15.63  31.25  62.5  125.0  250.0  150.0\n",
       "2   0.0  0.0  0.98  1.95  3.91  7.81  15.63  31.25  62.5  125.0  250.0  150.0\n",
       "3   0.0  0.0  0.98  1.95  3.91  7.81  15.63  31.25  62.5  125.0  250.0  150.0\n",
       "4  80.0  0.0  0.31  0.63  1.25  2.50   5.00  10.00  20.0   40.0   80.0    0.0\n",
       "5  80.0  0.0  0.31  0.63  1.25  2.50   5.00  10.00  20.0   40.0   80.0    0.0\n",
       "6  80.0  0.0  0.31  0.63  1.25  2.50   5.00  10.00  20.0   40.0   80.0    0.0\n",
       "7  80.0  0.0  0.31  0.63  1.25  2.50   5.00  10.00  20.0   40.0   80.0    0.0"
      ]
     },
     "execution_count": 233,
     "metadata": {},
     "output_type": "execute_result"
    }
   ],
   "source": [
    "drug_amounts"
   ]
  },
  {
   "cell_type": "code",
   "execution_count": 234,
   "id": "905c8997",
   "metadata": {},
   "outputs": [],
   "source": [
    "import string"
   ]
  },
  {
   "cell_type": "code",
   "execution_count": 235,
   "id": "77c516f9",
   "metadata": {},
   "outputs": [
    {
     "data": {
      "text/plain": [
       "['A', 'B', 'C', 'D', 'E', 'F', 'G', 'H', 'I', 'J', 'K', 'L']"
      ]
     },
     "execution_count": 235,
     "metadata": {},
     "output_type": "execute_result"
    }
   ],
   "source": [
    "[string.ascii_uppercase[i] for i in range(12)]"
   ]
  },
  {
   "cell_type": "code",
   "execution_count": 236,
   "id": "03be368b",
   "metadata": {},
   "outputs": [],
   "source": [
    "drug_amounts.rename({i: i+1 for i in range(12)}, axis='columns', inplace=True)\n",
    "drug_amounts.rename({i: string.ascii_uppercase[i] for i in range(12)}, axis='rows', inplace=True)"
   ]
  },
  {
   "cell_type": "code",
   "execution_count": 295,
   "id": "2a420d17",
   "metadata": {},
   "outputs": [
    {
     "data": {
      "text/html": [
       "<div>\n",
       "<style scoped>\n",
       "    .dataframe tbody tr th:only-of-type {\n",
       "        vertical-align: middle;\n",
       "    }\n",
       "\n",
       "    .dataframe tbody tr th {\n",
       "        vertical-align: top;\n",
       "    }\n",
       "\n",
       "    .dataframe thead th {\n",
       "        text-align: right;\n",
       "    }\n",
       "</style>\n",
       "<table border=\"1\" class=\"dataframe\">\n",
       "  <thead>\n",
       "    <tr style=\"text-align: right;\">\n",
       "      <th></th>\n",
       "      <th>1</th>\n",
       "      <th>2</th>\n",
       "      <th>3</th>\n",
       "      <th>4</th>\n",
       "      <th>5</th>\n",
       "      <th>6</th>\n",
       "      <th>7</th>\n",
       "      <th>8</th>\n",
       "      <th>9</th>\n",
       "      <th>10</th>\n",
       "      <th>11</th>\n",
       "      <th>12</th>\n",
       "    </tr>\n",
       "  </thead>\n",
       "  <tbody>\n",
       "    <tr>\n",
       "      <th>A</th>\n",
       "      <td>0.0</td>\n",
       "      <td>0.0</td>\n",
       "      <td>0.98</td>\n",
       "      <td>1.95</td>\n",
       "      <td>3.91</td>\n",
       "      <td>7.81</td>\n",
       "      <td>15.63</td>\n",
       "      <td>31.25</td>\n",
       "      <td>62.5</td>\n",
       "      <td>125.0</td>\n",
       "      <td>250.0</td>\n",
       "      <td>150.0</td>\n",
       "    </tr>\n",
       "    <tr>\n",
       "      <th>B</th>\n",
       "      <td>0.0</td>\n",
       "      <td>0.0</td>\n",
       "      <td>0.98</td>\n",
       "      <td>1.95</td>\n",
       "      <td>3.91</td>\n",
       "      <td>7.81</td>\n",
       "      <td>15.63</td>\n",
       "      <td>31.25</td>\n",
       "      <td>62.5</td>\n",
       "      <td>125.0</td>\n",
       "      <td>250.0</td>\n",
       "      <td>150.0</td>\n",
       "    </tr>\n",
       "    <tr>\n",
       "      <th>C</th>\n",
       "      <td>0.0</td>\n",
       "      <td>0.0</td>\n",
       "      <td>0.98</td>\n",
       "      <td>1.95</td>\n",
       "      <td>3.91</td>\n",
       "      <td>7.81</td>\n",
       "      <td>15.63</td>\n",
       "      <td>31.25</td>\n",
       "      <td>62.5</td>\n",
       "      <td>125.0</td>\n",
       "      <td>250.0</td>\n",
       "      <td>150.0</td>\n",
       "    </tr>\n",
       "    <tr>\n",
       "      <th>D</th>\n",
       "      <td>0.0</td>\n",
       "      <td>0.0</td>\n",
       "      <td>0.98</td>\n",
       "      <td>1.95</td>\n",
       "      <td>3.91</td>\n",
       "      <td>7.81</td>\n",
       "      <td>15.63</td>\n",
       "      <td>31.25</td>\n",
       "      <td>62.5</td>\n",
       "      <td>125.0</td>\n",
       "      <td>250.0</td>\n",
       "      <td>150.0</td>\n",
       "    </tr>\n",
       "    <tr>\n",
       "      <th>E</th>\n",
       "      <td>80.0</td>\n",
       "      <td>0.0</td>\n",
       "      <td>0.31</td>\n",
       "      <td>0.63</td>\n",
       "      <td>1.25</td>\n",
       "      <td>2.50</td>\n",
       "      <td>5.00</td>\n",
       "      <td>10.00</td>\n",
       "      <td>20.0</td>\n",
       "      <td>40.0</td>\n",
       "      <td>80.0</td>\n",
       "      <td>0.0</td>\n",
       "    </tr>\n",
       "    <tr>\n",
       "      <th>F</th>\n",
       "      <td>80.0</td>\n",
       "      <td>0.0</td>\n",
       "      <td>0.31</td>\n",
       "      <td>0.63</td>\n",
       "      <td>1.25</td>\n",
       "      <td>2.50</td>\n",
       "      <td>5.00</td>\n",
       "      <td>10.00</td>\n",
       "      <td>20.0</td>\n",
       "      <td>40.0</td>\n",
       "      <td>80.0</td>\n",
       "      <td>0.0</td>\n",
       "    </tr>\n",
       "    <tr>\n",
       "      <th>G</th>\n",
       "      <td>80.0</td>\n",
       "      <td>0.0</td>\n",
       "      <td>0.31</td>\n",
       "      <td>0.63</td>\n",
       "      <td>1.25</td>\n",
       "      <td>2.50</td>\n",
       "      <td>5.00</td>\n",
       "      <td>10.00</td>\n",
       "      <td>20.0</td>\n",
       "      <td>40.0</td>\n",
       "      <td>80.0</td>\n",
       "      <td>0.0</td>\n",
       "    </tr>\n",
       "    <tr>\n",
       "      <th>H</th>\n",
       "      <td>80.0</td>\n",
       "      <td>0.0</td>\n",
       "      <td>0.31</td>\n",
       "      <td>0.63</td>\n",
       "      <td>1.25</td>\n",
       "      <td>2.50</td>\n",
       "      <td>5.00</td>\n",
       "      <td>10.00</td>\n",
       "      <td>20.0</td>\n",
       "      <td>40.0</td>\n",
       "      <td>80.0</td>\n",
       "      <td>0.0</td>\n",
       "    </tr>\n",
       "  </tbody>\n",
       "</table>\n",
       "</div>"
      ],
      "text/plain": [
       "     1    2     3     4     5     6      7      8     9      10     11     12\n",
       "A   0.0  0.0  0.98  1.95  3.91  7.81  15.63  31.25  62.5  125.0  250.0  150.0\n",
       "B   0.0  0.0  0.98  1.95  3.91  7.81  15.63  31.25  62.5  125.0  250.0  150.0\n",
       "C   0.0  0.0  0.98  1.95  3.91  7.81  15.63  31.25  62.5  125.0  250.0  150.0\n",
       "D   0.0  0.0  0.98  1.95  3.91  7.81  15.63  31.25  62.5  125.0  250.0  150.0\n",
       "E  80.0  0.0  0.31  0.63  1.25  2.50   5.00  10.00  20.0   40.0   80.0    0.0\n",
       "F  80.0  0.0  0.31  0.63  1.25  2.50   5.00  10.00  20.0   40.0   80.0    0.0\n",
       "G  80.0  0.0  0.31  0.63  1.25  2.50   5.00  10.00  20.0   40.0   80.0    0.0\n",
       "H  80.0  0.0  0.31  0.63  1.25  2.50   5.00  10.00  20.0   40.0   80.0    0.0"
      ]
     },
     "execution_count": 295,
     "metadata": {},
     "output_type": "execute_result"
    }
   ],
   "source": [
    "drug_amounts"
   ]
  },
  {
   "cell_type": "markdown",
   "id": "14d0e15a",
   "metadata": {},
   "source": [
    "## Creating dataframe for conditions"
   ]
  },
  {
   "cell_type": "code",
   "execution_count": 296,
   "id": "174d9789",
   "metadata": {},
   "outputs": [],
   "source": [
    "drug_type = drug_amounts.copy()\n",
    "drug_type[:] = 'Control'\n",
    "\n",
    "drug_type.iloc[0:4,2:-1] = 'Wortmannin' \n",
    "drug_type.iloc[4:8,2:-1] = 'LY294002'"
   ]
  },
  {
   "cell_type": "code",
   "execution_count": 297,
   "id": "a6a019d5",
   "metadata": {},
   "outputs": [
    {
     "data": {
      "text/html": [
       "<div>\n",
       "<style scoped>\n",
       "    .dataframe tbody tr th:only-of-type {\n",
       "        vertical-align: middle;\n",
       "    }\n",
       "\n",
       "    .dataframe tbody tr th {\n",
       "        vertical-align: top;\n",
       "    }\n",
       "\n",
       "    .dataframe thead th {\n",
       "        text-align: right;\n",
       "    }\n",
       "</style>\n",
       "<table border=\"1\" class=\"dataframe\">\n",
       "  <thead>\n",
       "    <tr style=\"text-align: right;\">\n",
       "      <th></th>\n",
       "      <th>1</th>\n",
       "      <th>2</th>\n",
       "      <th>3</th>\n",
       "      <th>4</th>\n",
       "      <th>5</th>\n",
       "      <th>6</th>\n",
       "      <th>7</th>\n",
       "      <th>8</th>\n",
       "      <th>9</th>\n",
       "      <th>10</th>\n",
       "      <th>11</th>\n",
       "      <th>12</th>\n",
       "    </tr>\n",
       "  </thead>\n",
       "  <tbody>\n",
       "    <tr>\n",
       "      <th>A</th>\n",
       "      <td>Control</td>\n",
       "      <td>Control</td>\n",
       "      <td>Wortmannin</td>\n",
       "      <td>Wortmannin</td>\n",
       "      <td>Wortmannin</td>\n",
       "      <td>Wortmannin</td>\n",
       "      <td>Wortmannin</td>\n",
       "      <td>Wortmannin</td>\n",
       "      <td>Wortmannin</td>\n",
       "      <td>Wortmannin</td>\n",
       "      <td>Wortmannin</td>\n",
       "      <td>Control</td>\n",
       "    </tr>\n",
       "    <tr>\n",
       "      <th>B</th>\n",
       "      <td>Control</td>\n",
       "      <td>Control</td>\n",
       "      <td>Wortmannin</td>\n",
       "      <td>Wortmannin</td>\n",
       "      <td>Wortmannin</td>\n",
       "      <td>Wortmannin</td>\n",
       "      <td>Wortmannin</td>\n",
       "      <td>Wortmannin</td>\n",
       "      <td>Wortmannin</td>\n",
       "      <td>Wortmannin</td>\n",
       "      <td>Wortmannin</td>\n",
       "      <td>Control</td>\n",
       "    </tr>\n",
       "    <tr>\n",
       "      <th>C</th>\n",
       "      <td>Control</td>\n",
       "      <td>Control</td>\n",
       "      <td>Wortmannin</td>\n",
       "      <td>Wortmannin</td>\n",
       "      <td>Wortmannin</td>\n",
       "      <td>Wortmannin</td>\n",
       "      <td>Wortmannin</td>\n",
       "      <td>Wortmannin</td>\n",
       "      <td>Wortmannin</td>\n",
       "      <td>Wortmannin</td>\n",
       "      <td>Wortmannin</td>\n",
       "      <td>Control</td>\n",
       "    </tr>\n",
       "    <tr>\n",
       "      <th>D</th>\n",
       "      <td>Control</td>\n",
       "      <td>Control</td>\n",
       "      <td>Wortmannin</td>\n",
       "      <td>Wortmannin</td>\n",
       "      <td>Wortmannin</td>\n",
       "      <td>Wortmannin</td>\n",
       "      <td>Wortmannin</td>\n",
       "      <td>Wortmannin</td>\n",
       "      <td>Wortmannin</td>\n",
       "      <td>Wortmannin</td>\n",
       "      <td>Wortmannin</td>\n",
       "      <td>Control</td>\n",
       "    </tr>\n",
       "    <tr>\n",
       "      <th>E</th>\n",
       "      <td>Control</td>\n",
       "      <td>Control</td>\n",
       "      <td>LY294002</td>\n",
       "      <td>LY294002</td>\n",
       "      <td>LY294002</td>\n",
       "      <td>LY294002</td>\n",
       "      <td>LY294002</td>\n",
       "      <td>LY294002</td>\n",
       "      <td>LY294002</td>\n",
       "      <td>LY294002</td>\n",
       "      <td>LY294002</td>\n",
       "      <td>Control</td>\n",
       "    </tr>\n",
       "    <tr>\n",
       "      <th>F</th>\n",
       "      <td>Control</td>\n",
       "      <td>Control</td>\n",
       "      <td>LY294002</td>\n",
       "      <td>LY294002</td>\n",
       "      <td>LY294002</td>\n",
       "      <td>LY294002</td>\n",
       "      <td>LY294002</td>\n",
       "      <td>LY294002</td>\n",
       "      <td>LY294002</td>\n",
       "      <td>LY294002</td>\n",
       "      <td>LY294002</td>\n",
       "      <td>Control</td>\n",
       "    </tr>\n",
       "    <tr>\n",
       "      <th>G</th>\n",
       "      <td>Control</td>\n",
       "      <td>Control</td>\n",
       "      <td>LY294002</td>\n",
       "      <td>LY294002</td>\n",
       "      <td>LY294002</td>\n",
       "      <td>LY294002</td>\n",
       "      <td>LY294002</td>\n",
       "      <td>LY294002</td>\n",
       "      <td>LY294002</td>\n",
       "      <td>LY294002</td>\n",
       "      <td>LY294002</td>\n",
       "      <td>Control</td>\n",
       "    </tr>\n",
       "    <tr>\n",
       "      <th>H</th>\n",
       "      <td>Control</td>\n",
       "      <td>Control</td>\n",
       "      <td>LY294002</td>\n",
       "      <td>LY294002</td>\n",
       "      <td>LY294002</td>\n",
       "      <td>LY294002</td>\n",
       "      <td>LY294002</td>\n",
       "      <td>LY294002</td>\n",
       "      <td>LY294002</td>\n",
       "      <td>LY294002</td>\n",
       "      <td>LY294002</td>\n",
       "      <td>Control</td>\n",
       "    </tr>\n",
       "  </tbody>\n",
       "</table>\n",
       "</div>"
      ],
      "text/plain": [
       "        1        2           3           4           5           6   \\\n",
       "A  Control  Control  Wortmannin  Wortmannin  Wortmannin  Wortmannin   \n",
       "B  Control  Control  Wortmannin  Wortmannin  Wortmannin  Wortmannin   \n",
       "C  Control  Control  Wortmannin  Wortmannin  Wortmannin  Wortmannin   \n",
       "D  Control  Control  Wortmannin  Wortmannin  Wortmannin  Wortmannin   \n",
       "E  Control  Control    LY294002    LY294002    LY294002    LY294002   \n",
       "F  Control  Control    LY294002    LY294002    LY294002    LY294002   \n",
       "G  Control  Control    LY294002    LY294002    LY294002    LY294002   \n",
       "H  Control  Control    LY294002    LY294002    LY294002    LY294002   \n",
       "\n",
       "           7           8           9           10          11       12  \n",
       "A  Wortmannin  Wortmannin  Wortmannin  Wortmannin  Wortmannin  Control  \n",
       "B  Wortmannin  Wortmannin  Wortmannin  Wortmannin  Wortmannin  Control  \n",
       "C  Wortmannin  Wortmannin  Wortmannin  Wortmannin  Wortmannin  Control  \n",
       "D  Wortmannin  Wortmannin  Wortmannin  Wortmannin  Wortmannin  Control  \n",
       "E    LY294002    LY294002    LY294002    LY294002    LY294002  Control  \n",
       "F    LY294002    LY294002    LY294002    LY294002    LY294002  Control  \n",
       "G    LY294002    LY294002    LY294002    LY294002    LY294002  Control  \n",
       "H    LY294002    LY294002    LY294002    LY294002    LY294002  Control  "
      ]
     },
     "execution_count": 297,
     "metadata": {},
     "output_type": "execute_result"
    }
   ],
   "source": [
    "drug_type"
   ]
  },
  {
   "cell_type": "markdown",
   "id": "8cf13b6e",
   "metadata": {},
   "source": [
    "## Merge dataframes\n",
    "\n",
    "Now we merge the two informations and turn the dataframes into a long list where each line is one well and the location defined by a row and columns indices:"
   ]
  },
  {
   "cell_type": "code",
   "execution_count": 351,
   "id": "4ea0576b",
   "metadata": {},
   "outputs": [],
   "source": [
    "drug_info = pd.merge(drug_amounts.stack().reset_index(), drug_type.stack().reset_index(), on=('level_0', 'level_1'))\n",
    "drug_info.rename({'level_0': 'well row', 'level_1': 'well column', '0_x': 'amount', '0_y': 'drug type'}, axis=1, inplace=True)\n",
    "drug_info = drug_info.set_index(['well row', 'well column'])"
   ]
  },
  {
   "cell_type": "code",
   "execution_count": 352,
   "id": "f943f90d",
   "metadata": {},
   "outputs": [
    {
     "data": {
      "text/html": [
       "<div>\n",
       "<style scoped>\n",
       "    .dataframe tbody tr th:only-of-type {\n",
       "        vertical-align: middle;\n",
       "    }\n",
       "\n",
       "    .dataframe tbody tr th {\n",
       "        vertical-align: top;\n",
       "    }\n",
       "\n",
       "    .dataframe thead th {\n",
       "        text-align: right;\n",
       "    }\n",
       "</style>\n",
       "<table border=\"1\" class=\"dataframe\">\n",
       "  <thead>\n",
       "    <tr style=\"text-align: right;\">\n",
       "      <th></th>\n",
       "      <th></th>\n",
       "      <th>amount</th>\n",
       "      <th>drug type</th>\n",
       "    </tr>\n",
       "    <tr>\n",
       "      <th>well row</th>\n",
       "      <th>well column</th>\n",
       "      <th></th>\n",
       "      <th></th>\n",
       "    </tr>\n",
       "  </thead>\n",
       "  <tbody>\n",
       "    <tr>\n",
       "      <th rowspan=\"5\" valign=\"top\">A</th>\n",
       "      <th>1</th>\n",
       "      <td>0.00</td>\n",
       "      <td>Control</td>\n",
       "    </tr>\n",
       "    <tr>\n",
       "      <th>2</th>\n",
       "      <td>0.00</td>\n",
       "      <td>Control</td>\n",
       "    </tr>\n",
       "    <tr>\n",
       "      <th>3</th>\n",
       "      <td>0.98</td>\n",
       "      <td>Wortmannin</td>\n",
       "    </tr>\n",
       "    <tr>\n",
       "      <th>4</th>\n",
       "      <td>1.95</td>\n",
       "      <td>Wortmannin</td>\n",
       "    </tr>\n",
       "    <tr>\n",
       "      <th>5</th>\n",
       "      <td>3.91</td>\n",
       "      <td>Wortmannin</td>\n",
       "    </tr>\n",
       "    <tr>\n",
       "      <th>...</th>\n",
       "      <th>...</th>\n",
       "      <td>...</td>\n",
       "      <td>...</td>\n",
       "    </tr>\n",
       "    <tr>\n",
       "      <th rowspan=\"5\" valign=\"top\">H</th>\n",
       "      <th>8</th>\n",
       "      <td>10.00</td>\n",
       "      <td>LY294002</td>\n",
       "    </tr>\n",
       "    <tr>\n",
       "      <th>9</th>\n",
       "      <td>20.00</td>\n",
       "      <td>LY294002</td>\n",
       "    </tr>\n",
       "    <tr>\n",
       "      <th>10</th>\n",
       "      <td>40.00</td>\n",
       "      <td>LY294002</td>\n",
       "    </tr>\n",
       "    <tr>\n",
       "      <th>11</th>\n",
       "      <td>80.00</td>\n",
       "      <td>LY294002</td>\n",
       "    </tr>\n",
       "    <tr>\n",
       "      <th>12</th>\n",
       "      <td>0.00</td>\n",
       "      <td>Control</td>\n",
       "    </tr>\n",
       "  </tbody>\n",
       "</table>\n",
       "<p>96 rows × 2 columns</p>\n",
       "</div>"
      ],
      "text/plain": [
       "                      amount   drug type\n",
       "well row well column                    \n",
       "A        1              0.00     Control\n",
       "         2              0.00     Control\n",
       "         3              0.98  Wortmannin\n",
       "         4              1.95  Wortmannin\n",
       "         5              3.91  Wortmannin\n",
       "...                      ...         ...\n",
       "H        8             10.00    LY294002\n",
       "         9             20.00    LY294002\n",
       "         10            40.00    LY294002\n",
       "         11            80.00    LY294002\n",
       "         12             0.00     Control\n",
       "\n",
       "[96 rows x 2 columns]"
      ]
     },
     "execution_count": 352,
     "metadata": {},
     "output_type": "execute_result"
    }
   ],
   "source": [
    "drug_info"
   ]
  },
  {
   "cell_type": "markdown",
   "id": "e960c388",
   "metadata": {},
   "source": [
    "## Parse files"
   ]
  },
  {
   "cell_type": "code",
   "execution_count": 353,
   "id": "87c8cf87",
   "metadata": {},
   "outputs": [],
   "source": [
    "data_path = Path('BBBC013_v1_images_bmp')"
   ]
  },
  {
   "cell_type": "code",
   "execution_count": 354,
   "id": "87e07530",
   "metadata": {},
   "outputs": [],
   "source": [
    "import natsort"
   ]
  },
  {
   "cell_type": "code",
   "execution_count": 355,
   "id": "fad4fafc",
   "metadata": {},
   "outputs": [],
   "source": [
    "file_list1 = list(data_path.glob('Channel1*.BMP'))\n",
    "file_list1 = natsorted(file_list1)\n",
    "\n",
    "file_list2 = list(data_path.glob('Channel2*.BMP'))\n",
    "file_list2 = natsorted(file_list2)"
   ]
  },
  {
   "cell_type": "markdown",
   "id": "31062220",
   "metadata": {},
   "source": [
    "## Small pipeline"
   ]
  },
  {
   "cell_type": "code",
   "execution_count": 356,
   "id": "9c18d4f3",
   "metadata": {},
   "outputs": [],
   "source": [
    "import skimage.io\n",
    "import skimage.measure\n",
    "import skimage.filters\n",
    "import matplotlib.pyplot as plt\n",
    "\n",
    "image1 = skimage.io.imread(file_list1[0])\n",
    "image2 = skimage.io.imread(file_list2[0])"
   ]
  },
  {
   "cell_type": "code",
   "execution_count": 357,
   "id": "2b385614",
   "metadata": {},
   "outputs": [
    {
     "data": {
      "text/plain": [
       "<matplotlib.image.AxesImage at 0x7f86920cbc90>"
      ]
     },
     "execution_count": 357,
     "metadata": {},
     "output_type": "execute_result"
    },
    {
     "data": {
      "image/png": "[encoded data removed]",
      "text/plain": [
       "<Figure size 432x288 with 2 Axes>"
      ]
     },
     "metadata": {
      "needs_background": "light"
     },
     "output_type": "display_data"
    }
   ],
   "source": [
    "fig, ax = plt.subplots(1,2)\n",
    "ax[0].imshow(image1)\n",
    "ax[1].imshow(image2)"
   ]
  },
  {
   "cell_type": "code",
   "execution_count": 358,
   "id": "f104938c",
   "metadata": {
    "tags": []
   },
   "outputs": [],
   "source": [
    "threshold = skimage.filters.threshold_otsu(image2)\n",
    "mask = image2 > threshold"
   ]
  },
  {
   "cell_type": "code",
   "execution_count": 359,
   "id": "5600f1b3",
   "metadata": {},
   "outputs": [
    {
     "data": {
      "text/plain": [
       "<matplotlib.image.AxesImage at 0x7f8691f9ccd0>"
      ]
     },
     "execution_count": 359,
     "metadata": {},
     "output_type": "execute_result"
    },
    {
     "data": {
      "image/png": "[encoded data removed]",
      "text/plain": [
       "<Figure size 432x288 with 2 Axes>"
      ]
     },
     "metadata": {
      "needs_background": "light"
     },
     "output_type": "display_data"
    }
   ],
   "source": [
    "fig, ax = plt.subplots(1,2)\n",
    "ax[0].imshow(image2)\n",
    "ax[1].imshow(mask)"
   ]
  },
  {
   "cell_type": "code",
   "execution_count": 360,
   "id": "9a7e6276",
   "metadata": {},
   "outputs": [],
   "source": [
    "regions = skimage.measure.regionprops_table(skimage.measure.label(mask), intensity_image=image1,\n",
    "                                           properties=('label','area','mean_intensity'))"
   ]
  },
  {
   "cell_type": "code",
   "execution_count": 361,
   "id": "37bba79a",
   "metadata": {},
   "outputs": [
    {
     "data": {
      "text/plain": [
       "22.00778541620419"
      ]
     },
     "execution_count": 361,
     "metadata": {},
     "output_type": "execute_result"
    }
   ],
   "source": [
    "regions['mean_intensity'].mean()"
   ]
  },
  {
   "cell_type": "markdown",
   "id": "736c8132",
   "metadata": {},
   "source": [
    "We need to parse the well-position of the image using regular expressions:"
   ]
  },
  {
   "cell_type": "code",
   "execution_count": 362,
   "id": "77e3ca8b",
   "metadata": {},
   "outputs": [
    {
     "data": {
      "text/plain": [
       "'Channel1-01-A-01.BMP'"
      ]
     },
     "execution_count": 362,
     "metadata": {},
     "output_type": "execute_result"
    }
   ],
   "source": [
    "file_list1[0].name"
   ]
  },
  {
   "cell_type": "code",
   "execution_count": 363,
   "id": "aacecafd",
   "metadata": {},
   "outputs": [],
   "source": [
    "import re"
   ]
  },
  {
   "cell_type": "code",
   "execution_count": 364,
   "id": "4a90a84b",
   "metadata": {},
   "outputs": [],
   "source": [
    "position = re.findall('.*\\-.*\\-(.*)\\-(.*)\\.BMP',file_list1[0].name)"
   ]
  },
  {
   "cell_type": "code",
   "execution_count": 365,
   "id": "4874fa51",
   "metadata": {},
   "outputs": [
    {
     "data": {
      "text/plain": [
       "['A', 1]"
      ]
     },
     "execution_count": 365,
     "metadata": {},
     "output_type": "execute_result"
    }
   ],
   "source": [
    "[position[0][0], int(position[0][1])]"
   ]
  },
  {
   "cell_type": "markdown",
   "id": "46fca92d",
   "metadata": {},
   "source": [
    "We create new columns to store information"
   ]
  },
  {
   "cell_type": "code",
   "execution_count": 371,
   "id": "6989dd97",
   "metadata": {},
   "outputs": [],
   "source": [
    "drug_info['area'] = np.nan\n",
    "drug_info['intensity'] = np.nan\n",
    "drug_info['number nuclei'] = np.nan"
   ]
  },
  {
   "cell_type": "markdown",
   "id": "6cb8842b",
   "metadata": {},
   "source": [
    "We can add the information to our dataframe using the parsed location as indices:"
   ]
  },
  {
   "cell_type": "code",
   "execution_count": 372,
   "id": "cb984650",
   "metadata": {},
   "outputs": [],
   "source": [
    "drug_info.loc[(position[0][0], int(position[0][1])),'area'] = regions['area'].mean()"
   ]
  },
  {
   "cell_type": "code",
   "execution_count": 373,
   "id": "af5e2223",
   "metadata": {},
   "outputs": [
    {
     "data": {
      "text/html": [
       "<div>\n",
       "<style scoped>\n",
       "    .dataframe tbody tr th:only-of-type {\n",
       "        vertical-align: middle;\n",
       "    }\n",
       "\n",
       "    .dataframe tbody tr th {\n",
       "        vertical-align: top;\n",
       "    }\n",
       "\n",
       "    .dataframe thead th {\n",
       "        text-align: right;\n",
       "    }\n",
       "</style>\n",
       "<table border=\"1\" class=\"dataframe\">\n",
       "  <thead>\n",
       "    <tr style=\"text-align: right;\">\n",
       "      <th></th>\n",
       "      <th></th>\n",
       "      <th>amount</th>\n",
       "      <th>drug type</th>\n",
       "      <th>area</th>\n",
       "      <th>intensity</th>\n",
       "      <th>number nuclei</th>\n",
       "    </tr>\n",
       "    <tr>\n",
       "      <th>well row</th>\n",
       "      <th>well column</th>\n",
       "      <th></th>\n",
       "      <th></th>\n",
       "      <th></th>\n",
       "      <th></th>\n",
       "      <th></th>\n",
       "    </tr>\n",
       "  </thead>\n",
       "  <tbody>\n",
       "    <tr>\n",
       "      <th rowspan=\"5\" valign=\"top\">A</th>\n",
       "      <th>1</th>\n",
       "      <td>0.00</td>\n",
       "      <td>Control</td>\n",
       "      <td>NaN</td>\n",
       "      <td>NaN</td>\n",
       "      <td>NaN</td>\n",
       "    </tr>\n",
       "    <tr>\n",
       "      <th>2</th>\n",
       "      <td>0.00</td>\n",
       "      <td>Control</td>\n",
       "      <td>NaN</td>\n",
       "      <td>NaN</td>\n",
       "      <td>NaN</td>\n",
       "    </tr>\n",
       "    <tr>\n",
       "      <th>3</th>\n",
       "      <td>0.98</td>\n",
       "      <td>Wortmannin</td>\n",
       "      <td>NaN</td>\n",
       "      <td>NaN</td>\n",
       "      <td>NaN</td>\n",
       "    </tr>\n",
       "    <tr>\n",
       "      <th>4</th>\n",
       "      <td>1.95</td>\n",
       "      <td>Wortmannin</td>\n",
       "      <td>NaN</td>\n",
       "      <td>NaN</td>\n",
       "      <td>NaN</td>\n",
       "    </tr>\n",
       "    <tr>\n",
       "      <th>5</th>\n",
       "      <td>3.91</td>\n",
       "      <td>Wortmannin</td>\n",
       "      <td>NaN</td>\n",
       "      <td>NaN</td>\n",
       "      <td>NaN</td>\n",
       "    </tr>\n",
       "    <tr>\n",
       "      <th>...</th>\n",
       "      <th>...</th>\n",
       "      <td>...</td>\n",
       "      <td>...</td>\n",
       "      <td>...</td>\n",
       "      <td>...</td>\n",
       "      <td>...</td>\n",
       "    </tr>\n",
       "    <tr>\n",
       "      <th rowspan=\"5\" valign=\"top\">H</th>\n",
       "      <th>8</th>\n",
       "      <td>10.00</td>\n",
       "      <td>LY294002</td>\n",
       "      <td>NaN</td>\n",
       "      <td>NaN</td>\n",
       "      <td>NaN</td>\n",
       "    </tr>\n",
       "    <tr>\n",
       "      <th>9</th>\n",
       "      <td>20.00</td>\n",
       "      <td>LY294002</td>\n",
       "      <td>NaN</td>\n",
       "      <td>NaN</td>\n",
       "      <td>NaN</td>\n",
       "    </tr>\n",
       "    <tr>\n",
       "      <th>10</th>\n",
       "      <td>40.00</td>\n",
       "      <td>LY294002</td>\n",
       "      <td>NaN</td>\n",
       "      <td>NaN</td>\n",
       "      <td>NaN</td>\n",
       "    </tr>\n",
       "    <tr>\n",
       "      <th>11</th>\n",
       "      <td>80.00</td>\n",
       "      <td>LY294002</td>\n",
       "      <td>NaN</td>\n",
       "      <td>NaN</td>\n",
       "      <td>NaN</td>\n",
       "    </tr>\n",
       "    <tr>\n",
       "      <th>12</th>\n",
       "      <td>0.00</td>\n",
       "      <td>Control</td>\n",
       "      <td>133.957529</td>\n",
       "      <td>NaN</td>\n",
       "      <td>NaN</td>\n",
       "    </tr>\n",
       "  </tbody>\n",
       "</table>\n",
       "<p>96 rows × 5 columns</p>\n",
       "</div>"
      ],
      "text/plain": [
       "                      amount   drug type        area  intensity  number nuclei\n",
       "well row well column                                                          \n",
       "A        1              0.00     Control         NaN        NaN            NaN\n",
       "         2              0.00     Control         NaN        NaN            NaN\n",
       "         3              0.98  Wortmannin         NaN        NaN            NaN\n",
       "         4              1.95  Wortmannin         NaN        NaN            NaN\n",
       "         5              3.91  Wortmannin         NaN        NaN            NaN\n",
       "...                      ...         ...         ...        ...            ...\n",
       "H        8             10.00    LY294002         NaN        NaN            NaN\n",
       "         9             20.00    LY294002         NaN        NaN            NaN\n",
       "         10            40.00    LY294002         NaN        NaN            NaN\n",
       "         11            80.00    LY294002         NaN        NaN            NaN\n",
       "         12             0.00     Control  133.957529        NaN            NaN\n",
       "\n",
       "[96 rows x 5 columns]"
      ]
     },
     "execution_count": 373,
     "metadata": {},
     "output_type": "execute_result"
    }
   ],
   "source": [
    "drug_info"
   ]
  },
  {
   "cell_type": "code",
   "execution_count": 435,
   "id": "c7260fd6",
   "metadata": {},
   "outputs": [],
   "source": [
    "for f1, f2 in zip(file_list1, file_list2):\n",
    "    \n",
    "    image1 = skimage.io.imread(f1)\n",
    "    image2 = skimage.io.imread(f2)\n",
    "\n",
    "    threshold = skimage.filters.threshold_otsu(image2)\n",
    "    mask = image2 > threshold\n",
    "    \n",
    "    regions = skimage.measure.regionprops_table(skimage.measure.label(mask), intensity_image=image1,\n",
    "                                           properties=('label','area','mean_intensity'))\n",
    "    \n",
    "    position = re.findall('.*\\-.*\\-(.*)\\-(.*)\\.BMP',f1.name)\n",
    "    \n",
    "    drug_info.loc[(position[0][0], int(position[0][1])),'area'] = regions['area'].mean()\n",
    "    drug_info.loc[(position[0][0], int(position[0][1])),'intensity'] = regions['mean_intensity'].mean()\n",
    "    drug_info.loc[(position[0][0], int(position[0][1])),'number nuclei'] = len(regions['mean_intensity'])\n"
   ]
  },
  {
   "cell_type": "code",
   "execution_count": 436,
   "id": "d7a75587",
   "metadata": {},
   "outputs": [
    {
     "data": {
      "text/html": [
       "<div>\n",
       "<style scoped>\n",
       "    .dataframe tbody tr th:only-of-type {\n",
       "        vertical-align: middle;\n",
       "    }\n",
       "\n",
       "    .dataframe tbody tr th {\n",
       "        vertical-align: top;\n",
       "    }\n",
       "\n",
       "    .dataframe thead th {\n",
       "        text-align: right;\n",
       "    }\n",
       "</style>\n",
       "<table border=\"1\" class=\"dataframe\">\n",
       "  <thead>\n",
       "    <tr style=\"text-align: right;\">\n",
       "      <th></th>\n",
       "      <th></th>\n",
       "      <th>amount</th>\n",
       "      <th>drug type</th>\n",
       "      <th>area</th>\n",
       "      <th>intensity</th>\n",
       "      <th>number nuclei</th>\n",
       "    </tr>\n",
       "    <tr>\n",
       "      <th>well row</th>\n",
       "      <th>well column</th>\n",
       "      <th></th>\n",
       "      <th></th>\n",
       "      <th></th>\n",
       "      <th></th>\n",
       "      <th></th>\n",
       "    </tr>\n",
       "  </thead>\n",
       "  <tbody>\n",
       "    <tr>\n",
       "      <th rowspan=\"5\" valign=\"top\">A</th>\n",
       "      <th>1</th>\n",
       "      <td>0.00</td>\n",
       "      <td>Control</td>\n",
       "      <td>165.987692</td>\n",
       "      <td>22.007785</td>\n",
       "      <td>325.0</td>\n",
       "    </tr>\n",
       "    <tr>\n",
       "      <th>2</th>\n",
       "      <td>0.00</td>\n",
       "      <td>Control</td>\n",
       "      <td>171.313208</td>\n",
       "      <td>26.829120</td>\n",
       "      <td>265.0</td>\n",
       "    </tr>\n",
       "    <tr>\n",
       "      <th>3</th>\n",
       "      <td>0.98</td>\n",
       "      <td>Wortmannin</td>\n",
       "      <td>166.097959</td>\n",
       "      <td>34.067944</td>\n",
       "      <td>245.0</td>\n",
       "    </tr>\n",
       "    <tr>\n",
       "      <th>4</th>\n",
       "      <td>1.95</td>\n",
       "      <td>Wortmannin</td>\n",
       "      <td>165.542857</td>\n",
       "      <td>38.403205</td>\n",
       "      <td>210.0</td>\n",
       "    </tr>\n",
       "    <tr>\n",
       "      <th>5</th>\n",
       "      <td>3.91</td>\n",
       "      <td>Wortmannin</td>\n",
       "      <td>158.549356</td>\n",
       "      <td>41.634361</td>\n",
       "      <td>233.0</td>\n",
       "    </tr>\n",
       "    <tr>\n",
       "      <th>...</th>\n",
       "      <th>...</th>\n",
       "      <td>...</td>\n",
       "      <td>...</td>\n",
       "      <td>...</td>\n",
       "      <td>...</td>\n",
       "      <td>...</td>\n",
       "    </tr>\n",
       "    <tr>\n",
       "      <th rowspan=\"5\" valign=\"top\">H</th>\n",
       "      <th>8</th>\n",
       "      <td>10.00</td>\n",
       "      <td>LY294002</td>\n",
       "      <td>143.141243</td>\n",
       "      <td>70.834387</td>\n",
       "      <td>177.0</td>\n",
       "    </tr>\n",
       "    <tr>\n",
       "      <th>9</th>\n",
       "      <td>20.00</td>\n",
       "      <td>LY294002</td>\n",
       "      <td>145.350649</td>\n",
       "      <td>59.930971</td>\n",
       "      <td>231.0</td>\n",
       "    </tr>\n",
       "    <tr>\n",
       "      <th>10</th>\n",
       "      <td>40.00</td>\n",
       "      <td>LY294002</td>\n",
       "      <td>129.535484</td>\n",
       "      <td>72.448739</td>\n",
       "      <td>155.0</td>\n",
       "    </tr>\n",
       "    <tr>\n",
       "      <th>11</th>\n",
       "      <td>80.00</td>\n",
       "      <td>LY294002</td>\n",
       "      <td>129.482759</td>\n",
       "      <td>77.204863</td>\n",
       "      <td>261.0</td>\n",
       "    </tr>\n",
       "    <tr>\n",
       "      <th>12</th>\n",
       "      <td>0.00</td>\n",
       "      <td>Control</td>\n",
       "      <td>133.957529</td>\n",
       "      <td>28.122616</td>\n",
       "      <td>259.0</td>\n",
       "    </tr>\n",
       "  </tbody>\n",
       "</table>\n",
       "<p>96 rows × 5 columns</p>\n",
       "</div>"
      ],
      "text/plain": [
       "                      amount   drug type        area  intensity  number nuclei\n",
       "well row well column                                                          \n",
       "A        1              0.00     Control  165.987692  22.007785          325.0\n",
       "         2              0.00     Control  171.313208  26.829120          265.0\n",
       "         3              0.98  Wortmannin  166.097959  34.067944          245.0\n",
       "         4              1.95  Wortmannin  165.542857  38.403205          210.0\n",
       "         5              3.91  Wortmannin  158.549356  41.634361          233.0\n",
       "...                      ...         ...         ...        ...            ...\n",
       "H        8             10.00    LY294002  143.141243  70.834387          177.0\n",
       "         9             20.00    LY294002  145.350649  59.930971          231.0\n",
       "         10            40.00    LY294002  129.535484  72.448739          155.0\n",
       "         11            80.00    LY294002  129.482759  77.204863          261.0\n",
       "         12             0.00     Control  133.957529  28.122616          259.0\n",
       "\n",
       "[96 rows x 5 columns]"
      ]
     },
     "execution_count": 436,
     "metadata": {},
     "output_type": "execute_result"
    }
   ],
   "source": [
    "drug_info"
   ]
  },
  {
   "cell_type": "markdown",
   "id": "d323480d",
   "metadata": {},
   "source": [
    "## Plotting"
   ]
  },
  {
   "cell_type": "code",
   "execution_count": 437,
   "id": "9c32f86b",
   "metadata": {},
   "outputs": [],
   "source": [
    "import seaborn as sns"
   ]
  },
  {
   "cell_type": "code",
   "execution_count": 438,
   "id": "2c435f47",
   "metadata": {},
   "outputs": [],
   "source": [
    "clean_drug = drug_info[drug_info['drug type'] != 'Control']"
   ]
  },
  {
   "cell_type": "code",
   "execution_count": 439,
   "id": "2176ff43",
   "metadata": {},
   "outputs": [
    {
     "data": {
      "image/png": "[encoded data removed]",
      "text/plain": [
       "<Figure size 504x504 with 1 Axes>"
      ]
     },
     "metadata": {
      "needs_background": "light"
     },
     "output_type": "display_data"
    }
   ],
   "source": [
    "fig, ax = plt.subplots(figsize=(7, 7))\n",
    "ax.set(xscale=\"log\")\n",
    "sns.lineplot(data=clean_drug, x='amount', y='intensity', hue='drug type',ax=ax, marker=\"o\");"
   ]
  },
  {
   "cell_type": "code",
   "execution_count": 405,
   "id": "077d1651",
   "metadata": {},
   "outputs": [],
   "source": [
    "from sklearn import linear_model"
   ]
  },
  {
   "cell_type": "code",
   "execution_count": 406,
   "id": "2dc05e2b",
   "metadata": {},
   "outputs": [],
   "source": [
    "X = clean_drug.sort_values(by='amount')['amount'].values\n",
    "\n",
    "X = X[:, np.newaxis]\n",
    "\n",
    "y = clean_drug.sort_values(by='amount')['intensity'].values"
   ]
  },
  {
   "cell_type": "code",
   "execution_count": 407,
   "id": "1a24e470",
   "metadata": {},
   "outputs": [
    {
     "data": {
      "text/plain": [
       "LinearRegression()"
      ]
     },
     "execution_count": 407,
     "metadata": {},
     "output_type": "execute_result"
    }
   ],
   "source": [
    "ols = linear_model.LinearRegression()\n",
    "ols.fit(X, y)"
   ]
  },
  {
   "cell_type": "code",
   "execution_count": 408,
   "id": "e738a856",
   "metadata": {},
   "outputs": [
    {
     "data": {
      "image/png": "[encoded data removed]",
      "text/plain": [
       "<Figure size 504x504 with 1 Axes>"
      ]
     },
     "metadata": {
      "needs_background": "light"
     },
     "output_type": "display_data"
    }
   ],
   "source": [
    "fig, ax = plt.subplots(figsize=(7, 7))\n",
    "ax.plot(X,y,'o')\n",
    "ax.plot(X, ols.coef_ * X + ols.intercept_, linewidth=1)\n",
    "ax.set(xscale=\"log\");\n"
   ]
  },
  {
   "cell_type": "code",
   "execution_count": 409,
   "id": "0285a850",
   "metadata": {},
   "outputs": [],
   "source": [
    "from scipy.optimize import curve_fit\n",
    "\n",
    "def sigmoid (x, A, h, slope, C):\n",
    "    return 1 / (1 + np.exp ((x - h) / slope)) *  A + C\n",
    "\n",
    "p, _ = curve_fit(sigmoid, np.ravel(X), y)"
   ]
  },
  {
   "cell_type": "code",
   "execution_count": 410,
   "id": "42dfa52b",
   "metadata": {},
   "outputs": [],
   "source": [
    "x = np.ravel(X)"
   ]
  },
  {
   "cell_type": "code",
   "execution_count": 412,
   "id": "1ce1b0cb",
   "metadata": {},
   "outputs": [
    {
     "data": {
      "image/png": "[encoded data removed]",
      "text/plain": [
       "<Figure size 432x288 with 1 Axes>"
      ]
     },
     "metadata": {
      "needs_background": "light"
     },
     "output_type": "display_data"
    }
   ],
   "source": [
    "fig, ax = plt.subplots()\n",
    "ax.set_xscale('log')\n",
    "plt.plot(x, y, 'o')\n",
    "plt.plot(x, sigmoid(x, *p));"
   ]
  },
  {
   "cell_type": "code",
   "execution_count": 417,
   "id": "0d21c04c",
   "metadata": {},
   "outputs": [
    {
     "data": {
      "text/html": [
       "<div>\n",
       "<style scoped>\n",
       "    .dataframe tbody tr th:only-of-type {\n",
       "        vertical-align: middle;\n",
       "    }\n",
       "\n",
       "    .dataframe tbody tr th {\n",
       "        vertical-align: top;\n",
       "    }\n",
       "\n",
       "    .dataframe thead th {\n",
       "        text-align: right;\n",
       "    }\n",
       "</style>\n",
       "<table border=\"1\" class=\"dataframe\">\n",
       "  <thead>\n",
       "    <tr style=\"text-align: right;\">\n",
       "      <th></th>\n",
       "      <th>well row</th>\n",
       "      <th>well column</th>\n",
       "      <th>amount</th>\n",
       "      <th>drug type</th>\n",
       "      <th>area</th>\n",
       "      <th>intensity</th>\n",
       "      <th>number nuclei</th>\n",
       "    </tr>\n",
       "  </thead>\n",
       "  <tbody>\n",
       "    <tr>\n",
       "      <th>0</th>\n",
       "      <td>A</td>\n",
       "      <td>3</td>\n",
       "      <td>0.98</td>\n",
       "      <td>Wortmannin</td>\n",
       "      <td>166.097959</td>\n",
       "      <td>34.067944</td>\n",
       "      <td>245.0</td>\n",
       "    </tr>\n",
       "    <tr>\n",
       "      <th>1</th>\n",
       "      <td>A</td>\n",
       "      <td>4</td>\n",
       "      <td>1.95</td>\n",
       "      <td>Wortmannin</td>\n",
       "      <td>165.542857</td>\n",
       "      <td>38.403205</td>\n",
       "      <td>210.0</td>\n",
       "    </tr>\n",
       "    <tr>\n",
       "      <th>2</th>\n",
       "      <td>A</td>\n",
       "      <td>5</td>\n",
       "      <td>3.91</td>\n",
       "      <td>Wortmannin</td>\n",
       "      <td>158.549356</td>\n",
       "      <td>41.634361</td>\n",
       "      <td>233.0</td>\n",
       "    </tr>\n",
       "    <tr>\n",
       "      <th>3</th>\n",
       "      <td>A</td>\n",
       "      <td>6</td>\n",
       "      <td>7.81</td>\n",
       "      <td>Wortmannin</td>\n",
       "      <td>165.786611</td>\n",
       "      <td>36.220007</td>\n",
       "      <td>239.0</td>\n",
       "    </tr>\n",
       "    <tr>\n",
       "      <th>4</th>\n",
       "      <td>A</td>\n",
       "      <td>7</td>\n",
       "      <td>15.63</td>\n",
       "      <td>Wortmannin</td>\n",
       "      <td>169.803828</td>\n",
       "      <td>53.868620</td>\n",
       "      <td>209.0</td>\n",
       "    </tr>\n",
       "    <tr>\n",
       "      <th>...</th>\n",
       "      <td>...</td>\n",
       "      <td>...</td>\n",
       "      <td>...</td>\n",
       "      <td>...</td>\n",
       "      <td>...</td>\n",
       "      <td>...</td>\n",
       "      <td>...</td>\n",
       "    </tr>\n",
       "    <tr>\n",
       "      <th>67</th>\n",
       "      <td>H</td>\n",
       "      <td>7</td>\n",
       "      <td>5.00</td>\n",
       "      <td>LY294002</td>\n",
       "      <td>144.555000</td>\n",
       "      <td>63.005415</td>\n",
       "      <td>200.0</td>\n",
       "    </tr>\n",
       "    <tr>\n",
       "      <th>68</th>\n",
       "      <td>H</td>\n",
       "      <td>8</td>\n",
       "      <td>10.00</td>\n",
       "      <td>LY294002</td>\n",
       "      <td>143.141243</td>\n",
       "      <td>70.834387</td>\n",
       "      <td>177.0</td>\n",
       "    </tr>\n",
       "    <tr>\n",
       "      <th>69</th>\n",
       "      <td>H</td>\n",
       "      <td>9</td>\n",
       "      <td>20.00</td>\n",
       "      <td>LY294002</td>\n",
       "      <td>145.350649</td>\n",
       "      <td>59.930971</td>\n",
       "      <td>231.0</td>\n",
       "    </tr>\n",
       "    <tr>\n",
       "      <th>70</th>\n",
       "      <td>H</td>\n",
       "      <td>10</td>\n",
       "      <td>40.00</td>\n",
       "      <td>LY294002</td>\n",
       "      <td>129.535484</td>\n",
       "      <td>72.448739</td>\n",
       "      <td>155.0</td>\n",
       "    </tr>\n",
       "    <tr>\n",
       "      <th>71</th>\n",
       "      <td>H</td>\n",
       "      <td>11</td>\n",
       "      <td>80.00</td>\n",
       "      <td>LY294002</td>\n",
       "      <td>129.482759</td>\n",
       "      <td>77.204863</td>\n",
       "      <td>261.0</td>\n",
       "    </tr>\n",
       "  </tbody>\n",
       "</table>\n",
       "<p>72 rows × 7 columns</p>\n",
       "</div>"
      ],
      "text/plain": [
       "   well row  well column  amount   drug type        area  intensity  \\\n",
       "0         A            3    0.98  Wortmannin  166.097959  34.067944   \n",
       "1         A            4    1.95  Wortmannin  165.542857  38.403205   \n",
       "2         A            5    3.91  Wortmannin  158.549356  41.634361   \n",
       "3         A            6    7.81  Wortmannin  165.786611  36.220007   \n",
       "4         A            7   15.63  Wortmannin  169.803828  53.868620   \n",
       "..      ...          ...     ...         ...         ...        ...   \n",
       "67        H            7    5.00    LY294002  144.555000  63.005415   \n",
       "68        H            8   10.00    LY294002  143.141243  70.834387   \n",
       "69        H            9   20.00    LY294002  145.350649  59.930971   \n",
       "70        H           10   40.00    LY294002  129.535484  72.448739   \n",
       "71        H           11   80.00    LY294002  129.482759  77.204863   \n",
       "\n",
       "    number nuclei  \n",
       "0           245.0  \n",
       "1           210.0  \n",
       "2           233.0  \n",
       "3           239.0  \n",
       "4           209.0  \n",
       "..            ...  \n",
       "67          200.0  \n",
       "68          177.0  \n",
       "69          231.0  \n",
       "70          155.0  \n",
       "71          261.0  \n",
       "\n",
       "[72 rows x 7 columns]"
      ]
     },
     "execution_count": 417,
     "metadata": {},
     "output_type": "execute_result"
    }
   ],
   "source": [
    "clean_drug.reset_index()"
   ]
  },
  {
   "cell_type": "code",
   "execution_count": 426,
   "id": "40a749bf",
   "metadata": {},
   "outputs": [
    {
     "data": {
      "text/plain": [
       "<AxesSubplot:xlabel='area', ylabel='Count'>"
      ]
     },
     "execution_count": 426,
     "metadata": {},
     "output_type": "execute_result"
    },
    {
     "data": {
      "image/png": "[encoded data removed]",
      "text/plain": [
       "<Figure size 432x288 with 1 Axes>"
      ]
     },
     "metadata": {
      "needs_background": "light"
     },
     "output_type": "display_data"
    }
   ],
   "source": [
    "sns.histplot(data=clean_drug.reset_index(), x='area', hue='drug type')"
   ]
  },
  {
   "cell_type": "markdown",
   "id": "0c80e531",
   "metadata": {},
   "source": [
    "## Export the data"
   ]
  },
  {
   "cell_type": "code",
   "execution_count": 440,
   "id": "c6802637",
   "metadata": {},
   "outputs": [],
   "source": [
    "drug_info.reset_index().to_csv('BBBC013_analyzed.csv', index=False)"
   ]
  },
  {
   "cell_type": "code",
   "execution_count": null,
   "id": "cc3a9424",
   "metadata": {},
   "outputs": [],
   "source": []
  }
 ],
 "metadata": {
  "kernelspec": {
   "display_name": "Python 3",
   "language": "python",
   "name": "python3"
  },
  "language_info": {
   "codemirror_mode": {
    "name": "ipython",
    "version": 3
   },
   "file_extension": ".py",
   "mimetype": "text/x-python",
   "name": "python",
   "nbconvert_exporter": "python",
   "pygments_lexer": "ipython3",
   "version": "3.7.10"
  }
 },
 "nbformat": 4,
 "nbformat_minor": 5
}
